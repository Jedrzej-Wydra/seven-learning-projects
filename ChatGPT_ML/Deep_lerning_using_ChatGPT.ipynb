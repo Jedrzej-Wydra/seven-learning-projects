{
  "nbformat": 4,
  "nbformat_minor": 0,
  "metadata": {
    "colab": {
      "provenance": []
    },
    "kernelspec": {
      "name": "python3",
      "display_name": "Python 3"
    },
    "language_info": {
      "name": "python"
    }
  },
  "cells": [
    {
      "cell_type": "markdown",
      "source": [
        "Prompt:\n",
        "Write Python code of a neural network to solve the MNIST problem using Keras using fully connected layers and categorical crossentropy as the loss function without evaluating the model on the test set"
      ],
      "metadata": {
        "id": "80LuknQHhI2r"
      }
    },
    {
      "cell_type": "code",
      "execution_count": 1,
      "metadata": {
        "colab": {
          "base_uri": "https://localhost:8080/"
        },
        "id": "OV7w0wySgI52",
        "outputId": "9377db39-1ecc-43fb-a629-7b49648c4ee8"
      },
      "outputs": [
        {
          "output_type": "stream",
          "name": "stdout",
          "text": [
            "Downloading data from https://storage.googleapis.com/tensorflow/tf-keras-datasets/mnist.npz\n",
            "11490434/11490434 [==============================] - 0s 0us/step\n",
            "Epoch 1/10\n",
            "469/469 - 8s - loss: 0.3282 - accuracy: 0.9083 - 8s/epoch - 18ms/step\n",
            "Epoch 2/10\n",
            "469/469 - 4s - loss: 0.1372 - accuracy: 0.9602 - 4s/epoch - 9ms/step\n",
            "Epoch 3/10\n",
            "469/469 - 4s - loss: 0.0962 - accuracy: 0.9712 - 4s/epoch - 9ms/step\n",
            "Epoch 4/10\n",
            "469/469 - 3s - loss: 0.0715 - accuracy: 0.9782 - 3s/epoch - 5ms/step\n",
            "Epoch 5/10\n",
            "469/469 - 2s - loss: 0.0556 - accuracy: 0.9834 - 2s/epoch - 4ms/step\n",
            "Epoch 6/10\n",
            "469/469 - 2s - loss: 0.0441 - accuracy: 0.9865 - 2s/epoch - 4ms/step\n",
            "Epoch 7/10\n",
            "469/469 - 2s - loss: 0.0361 - accuracy: 0.9890 - 2s/epoch - 4ms/step\n",
            "Epoch 8/10\n",
            "469/469 - 2s - loss: 0.0295 - accuracy: 0.9909 - 2s/epoch - 5ms/step\n",
            "Epoch 9/10\n",
            "469/469 - 3s - loss: 0.0231 - accuracy: 0.9929 - 3s/epoch - 7ms/step\n",
            "Epoch 10/10\n",
            "469/469 - 2s - loss: 0.0206 - accuracy: 0.9937 - 2s/epoch - 5ms/step\n"
          ]
        },
        {
          "output_type": "execute_result",
          "data": {
            "text/plain": [
              "<keras.callbacks.History at 0x7ed22f919270>"
            ]
          },
          "metadata": {},
          "execution_count": 1
        }
      ],
      "source": [
        "import numpy as np\n",
        "from keras.datasets import mnist\n",
        "from keras.models import Sequential\n",
        "from keras.layers import Dense, Flatten\n",
        "from keras.utils import to_categorical\n",
        "\n",
        "# Load and preprocess the MNIST dataset\n",
        "(x_train, y_train), (x_test, y_test) = mnist.load_data()\n",
        "\n",
        "# Normalize and reshape the input data\n",
        "x_train = x_train.astype('float32') / 255.0\n",
        "x_train = x_train.reshape(x_train.shape[0], -1)\n",
        "\n",
        "# Convert labels to one-hot encoding\n",
        "y_train = to_categorical(y_train, num_classes=10)\n",
        "\n",
        "# Create a simple neural network model\n",
        "model = Sequential()\n",
        "model.add(Dense(128, activation='relu', input_shape=(784,)))\n",
        "model.add(Dense(64, activation='relu'))\n",
        "model.add(Dense(10, activation='softmax'))\n",
        "\n",
        "# Compile the model\n",
        "model.compile(optimizer='adam', loss='categorical_crossentropy', metrics=['accuracy'])\n",
        "\n",
        "# Train the model\n",
        "model.fit(x_train, y_train, batch_size=128, epochs=10, verbose=2)\n"
      ]
    },
    {
      "cell_type": "markdown",
      "source": [
        "Prompt: Change the loss function to be sparse categorial crossentropy"
      ],
      "metadata": {
        "id": "FYEzDlkEhNs0"
      }
    },
    {
      "cell_type": "code",
      "source": [
        "import numpy as np\n",
        "from keras.datasets import mnist\n",
        "from keras.models import Sequential\n",
        "from keras.layers import Dense, Flatten\n",
        "\n",
        "# Load and preprocess the MNIST dataset\n",
        "(x_train, y_train), (_, _) = mnist.load_data()\n",
        "\n",
        "# Normalize and reshape the input data\n",
        "x_train = x_train.astype('float32') / 255.0\n",
        "x_train = x_train.reshape(x_train.shape[0], -1)\n",
        "\n",
        "# Create a simple neural network model\n",
        "model = Sequential()\n",
        "model.add(Dense(128, activation='relu', input_shape=(784,)))\n",
        "model.add(Dense(64, activation='relu'))\n",
        "model.add(Dense(10, activation='softmax'))\n",
        "\n",
        "# Compile the model with sparse categorical crossentropy loss\n",
        "model.compile(optimizer='adam', loss='sparse_categorical_crossentropy', metrics=['accuracy'])\n",
        "\n",
        "# Train the model\n",
        "model.fit(x_train, y_train, batch_size=128, epochs=10, verbose=2)\n"
      ],
      "metadata": {
        "colab": {
          "base_uri": "https://localhost:8080/"
        },
        "id": "eGJz78bTgv7k",
        "outputId": "bf1f775f-2dfe-47b4-856f-7392d4ae009e"
      },
      "execution_count": 2,
      "outputs": [
        {
          "output_type": "stream",
          "name": "stdout",
          "text": [
            "Epoch 1/10\n",
            "469/469 - 4s - loss: 0.3294 - accuracy: 0.9052 - 4s/epoch - 8ms/step\n",
            "Epoch 2/10\n",
            "469/469 - 2s - loss: 0.1366 - accuracy: 0.9599 - 2s/epoch - 5ms/step\n",
            "Epoch 3/10\n",
            "469/469 - 2s - loss: 0.0970 - accuracy: 0.9710 - 2s/epoch - 4ms/step\n",
            "Epoch 4/10\n",
            "469/469 - 2s - loss: 0.0739 - accuracy: 0.9779 - 2s/epoch - 4ms/step\n",
            "Epoch 5/10\n",
            "469/469 - 2s - loss: 0.0575 - accuracy: 0.9826 - 2s/epoch - 4ms/step\n",
            "Epoch 6/10\n",
            "469/469 - 2s - loss: 0.0471 - accuracy: 0.9853 - 2s/epoch - 4ms/step\n",
            "Epoch 7/10\n",
            "469/469 - 3s - loss: 0.0388 - accuracy: 0.9878 - 3s/epoch - 6ms/step\n",
            "Epoch 8/10\n",
            "469/469 - 2s - loss: 0.0317 - accuracy: 0.9904 - 2s/epoch - 4ms/step\n",
            "Epoch 9/10\n",
            "469/469 - 2s - loss: 0.0263 - accuracy: 0.9920 - 2s/epoch - 4ms/step\n",
            "Epoch 10/10\n",
            "469/469 - 2s - loss: 0.0216 - accuracy: 0.9936 - 2s/epoch - 4ms/step\n"
          ]
        },
        {
          "output_type": "execute_result",
          "data": {
            "text/plain": [
              "<keras.callbacks.History at 0x7ed22efabf40>"
            ]
          },
          "metadata": {},
          "execution_count": 2
        }
      ]
    },
    {
      "cell_type": "markdown",
      "source": [
        "Prompt: now please use convolutional layers"
      ],
      "metadata": {
        "id": "WbpKgVo1iBOY"
      }
    },
    {
      "cell_type": "code",
      "source": [
        "import numpy as np\n",
        "from keras.datasets import mnist\n",
        "from keras.models import Sequential\n",
        "from keras.layers import Conv2D, MaxPooling2D, Flatten, Dense\n",
        "from keras.utils import to_categorical\n",
        "\n",
        "# Load and preprocess the MNIST dataset\n",
        "(x_train, y_train), (x_test, y_test) = mnist.load_data()\n",
        "\n",
        "# Normalize and reshape the input data for convolutional layers\n",
        "x_train = x_train.astype('float32') / 255.0\n",
        "x_train = np.expand_dims(x_train, axis=-1)  # Add channel dimension\n",
        "y_train = to_categorical(y_train, num_classes=10)\n",
        "\n",
        "# Create a convolutional neural network model\n",
        "model = Sequential()\n",
        "model.add(Conv2D(32, kernel_size=(3, 3), activation='relu', input_shape=(28, 28, 1)))\n",
        "model.add(MaxPooling2D(pool_size=(2, 2)))\n",
        "model.add(Conv2D(64, kernel_size=(3, 3), activation='relu'))\n",
        "model.add(MaxPooling2D(pool_size=(2, 2)))\n",
        "model.add(Flatten())\n",
        "model.add(Dense(128, activation='relu'))\n",
        "model.add(Dense(10, activation='softmax'))\n",
        "\n",
        "# Compile the model\n",
        "model.compile(optimizer='adam', loss='categorical_crossentropy', metrics=['accuracy'])\n",
        "\n",
        "# Train the model\n",
        "model.fit(x_train, y_train, batch_size=128, epochs=10, verbose=2)\n"
      ],
      "metadata": {
        "colab": {
          "base_uri": "https://localhost:8080/"
        },
        "id": "0kH9WntDiNxP",
        "outputId": "bcf87fef-9536-45f6-f3ef-b6c3e43d53d0"
      },
      "execution_count": 3,
      "outputs": [
        {
          "output_type": "stream",
          "name": "stdout",
          "text": [
            "Epoch 1/10\n",
            "469/469 - 50s - loss: 0.2003 - accuracy: 0.9421 - 50s/epoch - 106ms/step\n",
            "Epoch 2/10\n",
            "469/469 - 47s - loss: 0.0553 - accuracy: 0.9834 - 47s/epoch - 101ms/step\n",
            "Epoch 3/10\n",
            "469/469 - 48s - loss: 0.0399 - accuracy: 0.9880 - 48s/epoch - 103ms/step\n",
            "Epoch 4/10\n",
            "469/469 - 48s - loss: 0.0295 - accuracy: 0.9904 - 48s/epoch - 102ms/step\n",
            "Epoch 5/10\n",
            "469/469 - 49s - loss: 0.0234 - accuracy: 0.9926 - 49s/epoch - 105ms/step\n",
            "Epoch 6/10\n",
            "469/469 - 46s - loss: 0.0181 - accuracy: 0.9941 - 46s/epoch - 99ms/step\n",
            "Epoch 7/10\n",
            "469/469 - 47s - loss: 0.0152 - accuracy: 0.9951 - 47s/epoch - 100ms/step\n",
            "Epoch 8/10\n",
            "469/469 - 48s - loss: 0.0114 - accuracy: 0.9962 - 48s/epoch - 101ms/step\n",
            "Epoch 9/10\n",
            "469/469 - 58s - loss: 0.0099 - accuracy: 0.9966 - 58s/epoch - 124ms/step\n",
            "Epoch 10/10\n",
            "469/469 - 49s - loss: 0.0081 - accuracy: 0.9973 - 49s/epoch - 104ms/step\n"
          ]
        },
        {
          "output_type": "execute_result",
          "data": {
            "text/plain": [
              "<keras.callbacks.History at 0x7ed21e96a9b0>"
            ]
          },
          "metadata": {},
          "execution_count": 3
        }
      ]
    },
    {
      "cell_type": "markdown",
      "source": [
        "Prompt: Evaluate the model using its test set\n",
        "Use 20% of the training set as a validation set"
      ],
      "metadata": {
        "id": "k2izwiqkjwfL"
      }
    },
    {
      "cell_type": "code",
      "source": [
        "import numpy as np\n",
        "from keras.datasets import mnist\n",
        "from keras.models import Sequential\n",
        "from keras.layers import Conv2D, MaxPooling2D, Flatten, Dense\n",
        "from keras.utils import to_categorical\n",
        "\n",
        "# Load and preprocess the MNIST dataset\n",
        "(x_train, y_train), (x_test, y_test) = mnist.load_data()\n",
        "\n",
        "# Normalize and reshape the input data for convolutional layers\n",
        "x_train = x_train.astype('float32') / 255.0\n",
        "x_train = np.expand_dims(x_train, axis=-1)  # Add channel dimension\n",
        "y_train = to_categorical(y_train, num_classes=10)\n",
        "\n",
        "# Splitting the training set into training and validation sets\n",
        "num_samples = x_train.shape[0]\n",
        "split_ratio = 0.8\n",
        "split_index = int(num_samples * split_ratio)\n",
        "\n",
        "x_val = x_train[split_index:]\n",
        "y_val = y_train[split_index:]\n",
        "x_train = x_train[:split_index]\n",
        "y_train = y_train[:split_index]\n",
        "\n",
        "# Create a convolutional neural network model\n",
        "model = Sequential()\n",
        "model.add(Conv2D(32, kernel_size=(3, 3), activation='relu', input_shape=(28, 28, 1)))\n",
        "model.add(MaxPooling2D(pool_size=(2, 2)))\n",
        "model.add(Conv2D(64, kernel_size=(3, 3), activation='relu'))\n",
        "model.add(MaxPooling2D(pool_size=(2, 2)))\n",
        "model.add(Flatten())\n",
        "model.add(Dense(128, activation='relu'))\n",
        "model.add(Dense(10, activation='softmax'))\n",
        "\n",
        "# Compile the model\n",
        "model.compile(optimizer='adam', loss='categorical_crossentropy', metrics=['accuracy'])\n",
        "\n",
        "# Train the model with validation set\n",
        "model.fit(x_train, y_train, validation_data=(x_val, y_val), batch_size=128, epochs=10, verbose=2)\n",
        "\n",
        "# Evaluate the model using the test set\n",
        "x_test = x_test.astype('float32') / 255.0\n",
        "x_test = np.expand_dims(x_test, axis=-1)  # Add channel dimension\n",
        "y_test = to_categorical(y_test, num_classes=10)\n",
        "\n",
        "test_loss, test_accuracy = model.evaluate(x_test, y_test, verbose=0)\n",
        "print(\"Test Loss:\", test_loss)\n",
        "print(\"Test Accuracy:\", test_accuracy)\n"
      ],
      "metadata": {
        "colab": {
          "base_uri": "https://localhost:8080/"
        },
        "id": "e2I_Xxk9jwBg",
        "outputId": "8b65b299-b86a-4ac7-a957-3e666c080e99"
      },
      "execution_count": 4,
      "outputs": [
        {
          "output_type": "stream",
          "name": "stdout",
          "text": [
            "Epoch 1/10\n",
            "375/375 - 43s - loss: 0.2435 - accuracy: 0.9270 - val_loss: 0.0789 - val_accuracy: 0.9743 - 43s/epoch - 116ms/step\n",
            "Epoch 2/10\n",
            "375/375 - 45s - loss: 0.0611 - accuracy: 0.9812 - val_loss: 0.0552 - val_accuracy: 0.9850 - 45s/epoch - 119ms/step\n",
            "Epoch 3/10\n",
            "375/375 - 62s - loss: 0.0432 - accuracy: 0.9867 - val_loss: 0.0556 - val_accuracy: 0.9824 - 62s/epoch - 165ms/step\n",
            "Epoch 4/10\n",
            "375/375 - 43s - loss: 0.0327 - accuracy: 0.9895 - val_loss: 0.0414 - val_accuracy: 0.9877 - 43s/epoch - 114ms/step\n",
            "Epoch 5/10\n",
            "375/375 - 47s - loss: 0.0253 - accuracy: 0.9920 - val_loss: 0.0388 - val_accuracy: 0.9889 - 47s/epoch - 125ms/step\n",
            "Epoch 6/10\n",
            "375/375 - 42s - loss: 0.0209 - accuracy: 0.9931 - val_loss: 0.0411 - val_accuracy: 0.9893 - 42s/epoch - 112ms/step\n",
            "Epoch 7/10\n",
            "375/375 - 43s - loss: 0.0161 - accuracy: 0.9949 - val_loss: 0.0400 - val_accuracy: 0.9891 - 43s/epoch - 114ms/step\n",
            "Epoch 8/10\n",
            "375/375 - 42s - loss: 0.0124 - accuracy: 0.9960 - val_loss: 0.0376 - val_accuracy: 0.9911 - 42s/epoch - 112ms/step\n",
            "Epoch 9/10\n",
            "375/375 - 42s - loss: 0.0113 - accuracy: 0.9964 - val_loss: 0.0430 - val_accuracy: 0.9896 - 42s/epoch - 112ms/step\n",
            "Epoch 10/10\n",
            "375/375 - 41s - loss: 0.0073 - accuracy: 0.9976 - val_loss: 0.0482 - val_accuracy: 0.9890 - 41s/epoch - 109ms/step\n",
            "Test Loss: 0.030885299667716026\n",
            "Test Accuracy: 0.9898999929428101\n"
          ]
        }
      ]
    },
    {
      "cell_type": "markdown",
      "source": [
        "Prompt: plot the training and test loss using matplotlib\n",
        "\n",
        "plot 20 random images with label from the training set and see if the model predicts the images correct by color coding wrong predictions with red and right predictions with green"
      ],
      "metadata": {
        "id": "6Qmxh_aYkftw"
      }
    },
    {
      "cell_type": "code",
      "source": [
        "import numpy as np\n",
        "import matplotlib.pyplot as plt\n",
        "from keras.datasets import mnist\n",
        "from keras.models import Sequential\n",
        "from keras.layers import Conv2D, MaxPooling2D, Flatten, Dense\n",
        "from keras.utils import to_categorical\n",
        "\n",
        "# Load and preprocess the MNIST dataset\n",
        "(x_train, y_train), (x_test, y_test) = mnist.load_data()\n",
        "\n",
        "# Normalize and reshape the input data for convolutional layers\n",
        "x_train = x_train.astype('float32') / 255.0\n",
        "x_train = np.expand_dims(x_train, axis=-1)  # Add channel dimension\n",
        "y_train = to_categorical(y_train, num_classes=10)\n",
        "\n",
        "# Splitting the training set into training and validation sets\n",
        "num_samples = x_train.shape[0]\n",
        "split_ratio = 0.8\n",
        "split_index = int(num_samples * split_ratio)\n",
        "\n",
        "x_val = x_train[split_index:]\n",
        "y_val = y_train[split_index:]\n",
        "x_train = x_train[:split_index]\n",
        "y_train = y_train[:split_index]\n",
        "\n",
        "# Create a convolutional neural network model\n",
        "model = Sequential()\n",
        "model.add(Conv2D(32, kernel_size=(3, 3), activation='relu', input_shape=(28, 28, 1)))\n",
        "model.add(MaxPooling2D(pool_size=(2, 2)))\n",
        "model.add(Conv2D(64, kernel_size=(3, 3), activation='relu'))\n",
        "model.add(MaxPooling2D(pool_size=(2, 2)))\n",
        "model.add(Flatten())\n",
        "model.add(Dense(128, activation='relu'))\n",
        "model.add(Dense(10, activation='softmax'))\n",
        "\n",
        "# Compile the model\n",
        "model.compile(optimizer='adam', loss='categorical_crossentropy', metrics=['accuracy'])\n",
        "\n",
        "# Train the model with validation set\n",
        "history = model.fit(x_train, y_train, validation_data=(x_val, y_val), batch_size=128, epochs=10, verbose=2)\n",
        "\n",
        "# Plot training and validation loss\n",
        "plt.plot(history.history['loss'], label='Training Loss')\n",
        "plt.plot(history.history['val_loss'], label='Validation Loss')\n",
        "plt.xlabel('Epoch')\n",
        "plt.ylabel('Loss')\n",
        "plt.legend()\n",
        "plt.title('Training and Validation Loss')\n",
        "plt.show()\n",
        "\n",
        "# Evaluate the model using the test set\n",
        "x_test = x_test.astype('float32') / 255.0\n",
        "x_test = np.expand_dims(x_test, axis=-1)  # Add channel dimension\n",
        "y_test = to_categorical(y_test, num_classes=10)\n",
        "\n",
        "test_loss, test_accuracy = model.evaluate(x_test, y_test, verbose=0)\n",
        "print(\"Test Loss:\", test_loss)\n",
        "print(\"Test Accuracy:\", test_accuracy)\n",
        "\n",
        "# Plot 20 random images with color-coded predictions\n",
        "num_samples_to_plot = 20\n",
        "indices = np.random.choice(x_train.shape[0], num_samples_to_plot, replace=False)\n",
        "predictions = model.predict(x_train[indices])\n",
        "predicted_labels = np.argmax(predictions, axis=1)\n",
        "true_labels = np.argmax(y_train[indices], axis=1)\n",
        "\n",
        "plt.figure(figsize=(12, 8))\n",
        "for i, index in enumerate(indices):\n",
        "    plt.subplot(4, 5, i + 1)\n",
        "    plt.imshow(x_train[index].reshape(28, 28), cmap='gray')\n",
        "    if predicted_labels[i] == true_labels[i]:\n",
        "        plt.title(str(predicted_labels[i]), color='green')\n",
        "    else:\n",
        "        plt.title(str(predicted_labels[i]), color='red')\n",
        "    plt.axis('off')\n",
        "plt.suptitle('Random Training Images with Predictions')\n",
        "plt.show()\n"
      ],
      "metadata": {
        "colab": {
          "base_uri": "https://localhost:8080/",
          "height": 1000
        },
        "id": "1szuJkDokiSu",
        "outputId": "bcbba867-196a-403d-e333-b1142c427b61"
      },
      "execution_count": 5,
      "outputs": [
        {
          "output_type": "stream",
          "name": "stdout",
          "text": [
            "Epoch 1/10\n",
            "375/375 - 45s - loss: 0.2329 - accuracy: 0.9314 - val_loss: 0.0763 - val_accuracy: 0.9786 - 45s/epoch - 121ms/step\n",
            "Epoch 2/10\n",
            "375/375 - 42s - loss: 0.0614 - accuracy: 0.9810 - val_loss: 0.0699 - val_accuracy: 0.9783 - 42s/epoch - 112ms/step\n",
            "Epoch 3/10\n",
            "375/375 - 42s - loss: 0.0411 - accuracy: 0.9870 - val_loss: 0.0448 - val_accuracy: 0.9880 - 42s/epoch - 111ms/step\n",
            "Epoch 4/10\n",
            "375/375 - 40s - loss: 0.0328 - accuracy: 0.9899 - val_loss: 0.0403 - val_accuracy: 0.9887 - 40s/epoch - 108ms/step\n",
            "Epoch 5/10\n",
            "375/375 - 41s - loss: 0.0253 - accuracy: 0.9920 - val_loss: 0.0421 - val_accuracy: 0.9875 - 41s/epoch - 109ms/step\n",
            "Epoch 6/10\n",
            "375/375 - 41s - loss: 0.0187 - accuracy: 0.9941 - val_loss: 0.0441 - val_accuracy: 0.9874 - 41s/epoch - 110ms/step\n",
            "Epoch 7/10\n",
            "375/375 - 42s - loss: 0.0161 - accuracy: 0.9949 - val_loss: 0.0372 - val_accuracy: 0.9904 - 42s/epoch - 113ms/step\n",
            "Epoch 8/10\n",
            "375/375 - 44s - loss: 0.0133 - accuracy: 0.9958 - val_loss: 0.0421 - val_accuracy: 0.9881 - 44s/epoch - 118ms/step\n",
            "Epoch 9/10\n",
            "375/375 - 42s - loss: 0.0093 - accuracy: 0.9972 - val_loss: 0.0406 - val_accuracy: 0.9909 - 42s/epoch - 111ms/step\n",
            "Epoch 10/10\n",
            "375/375 - 40s - loss: 0.0081 - accuracy: 0.9973 - val_loss: 0.0433 - val_accuracy: 0.9891 - 40s/epoch - 108ms/step\n"
          ]
        },
        {
          "output_type": "display_data",
          "data": {
            "text/plain": [
              "<Figure size 640x480 with 1 Axes>"
            ],
            "image/png": "[encoded data removed]"
          },
          "metadata": {}
        },
        {
          "output_type": "stream",
          "name": "stdout",
          "text": [
            "Test Loss: 0.031024187803268433\n",
            "Test Accuracy: 0.9914000034332275\n",
            "1/1 [==============================] - 0s 117ms/step\n"
          ]
        },
        {
          "output_type": "display_data",
          "data": {
            "text/plain": [
              "<Figure size 1200x800 with 20 Axes>"
            ],
            "image/png": "[encoded data removed]"
          },
          "metadata": {}
        }
      ]
    },
    {
      "cell_type": "markdown",
      "source": [],
      "metadata": {
        "id": "iB8ZdU90mLbR"
      }
    }
  ]
}